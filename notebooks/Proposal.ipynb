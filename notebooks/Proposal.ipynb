{
 "cells": [
  {
   "cell_type": "markdown",
   "metadata": {},
   "source": [
    "# Wheat Market Analysis - Initial Proposal\n",
    "\n",
    "Garton Research & Trading - July 2019\n",
    "\n",
    "## Business Context\n",
    "\n",
    "The purpose of this project is to build predictive models for the price of Wheat Futures. There are several business applications of either a regression model which forecasts future prices, or of a classification model that assigns future outcomes into discrete buckets (i.e. up 5%, down 5%, flat). The classic example of course is to aid hedging decisions of both producers and end users of the commodity. Of course, there is an equal and similar demand for such a model from the perspective of a speculator or intermediary looking to place bets or manage risks. The model itself could be an end product in itself, or simply an input to a more comprehensive machine (such as a trading strategy, which may use this model's output as one of many signals).\n",
    "\n",
    "## Data Understanding\n",
    "\n",
    "This analysis requires at least four different sources of data: direct financial data (prices and volumes of exchange traded futures contracts), synthetic supply and demand data (commitment of trader reports on futures and options contracts), physical supply and demand data (supply and demand of the crop itself), and weather data for major wheat growing regions.\n",
    "\n",
    "**Sources**\n",
    "1. Futures data from quandl: https://www.quandl.com/data/CHRIS-Wiki-Continuous-Futures?keyword=wheat\n",
    "2. Weather data from NOAA: https://www.ncei.noaa.gov/support/access-data-service-api-user-documentation\n",
    "3. Physical supply and demand data (WASDE reports): https://www.usda.gov/oce/commodity/wasde/\n",
    "4. Financial supply and demand data (CFTC CoT reports): https://www.cftc.gov/MarketReports/CommitmentsofTraders/index.htm\n",
    "\n",
    "\n",
    "## Data Preparation\n",
    "\n",
    "1. Decide on scope of data required.\n",
    "2. Write scripts to automate collection of data.\n",
    "3. Preliminary EDA\n",
    "4. Data cleaning\n",
    "5. Construct data pipeline: collect --> clean --> combine --> save\n",
    "\n",
    "## Modeling\n",
    "\n",
    "1. ARIMA Models\n",
    "2. VAR Models\n",
    "3. FB Prophet Models\n",
    "4. LSTM Models\n",
    "5. Classification Models"
   ]
  }
 ],
 "metadata": {
  "kernelspec": {
   "display_name": "Python [conda env:dsi] *",
   "language": "python",
   "name": "conda-env-dsi-py"
  },
  "language_info": {
   "codemirror_mode": {
    "name": "ipython",
    "version": 3
   },
   "file_extension": ".py",
   "mimetype": "text/x-python",
   "name": "python",
   "nbconvert_exporter": "python",
   "pygments_lexer": "ipython3",
   "version": "3.6.8"
  }
 },
 "nbformat": 4,
 "nbformat_minor": 2
}
