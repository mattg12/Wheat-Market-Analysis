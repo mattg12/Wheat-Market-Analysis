{
 "cells": [
  {
   "cell_type": "code",
   "execution_count": 1,
   "metadata": {},
   "outputs": [],
   "source": [
    "import requests"
   ]
  },
  {
   "cell_type": "code",
   "execution_count": 2,
   "metadata": {},
   "outputs": [],
   "source": [
    "# base url for NCEI-NOAA API\n",
    "base_url = 'https://www.ncei.noaa.gov/access/services/data/v1'"
   ]
  },
  {
   "cell_type": "code",
   "execution_count": null,
   "metadata": {},
   "outputs": [],
   "source": [
    "# set up request for API\n",
    "req = requests.get(\n",
    "    base_url,\n",
    "    params={\n",
    "        \"dataset\": \"daily-summaries\",\n",
    "        \"stations\": \"None\",\n",
    "        \"startDate\": \"1970-01-01\",\n",
    "        \"endDate\": \"2019-07-09\",\n",
    "        \"dataTypes\": \"None\",\n",
    "        \"format\": \"csv\",\n",
    "        \n",
    "    }\n",
    ")"
   ]
  }
 ],
 "metadata": {
  "kernelspec": {
   "display_name": "Python [conda env:dsi] *",
   "language": "python",
   "name": "conda-env-dsi-py"
  },
  "language_info": {
   "codemirror_mode": {
    "name": "ipython",
    "version": 3
   },
   "file_extension": ".py",
   "mimetype": "text/x-python",
   "name": "python",
   "nbconvert_exporter": "python",
   "pygments_lexer": "ipython3",
   "version": "3.6.8"
  }
 },
 "nbformat": 4,
 "nbformat_minor": 2
}
